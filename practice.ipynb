{
 "cells": [
  {
   "cell_type": "code",
   "execution_count": null,
   "metadata": {},
   "outputs": [],
   "source": [
    "from osgeo import gdal\n",
    "import numpy as np\n",
    "import os\n",
    "from tqdm import tqdm"
   ]
  },
  {
   "cell_type": "code",
   "execution_count": 5,
   "metadata": {},
   "outputs": [
    {
     "data": {
      "text/plain": [
       "['2010-05-01.img',\n",
       " '2010-05-02.img',\n",
       " '2010-05-03.img',\n",
       " '2010-07-01.img',\n",
       " '2010-07-02.img',\n",
       " '2010-07-03.img',\n",
       " '2010-09-01.img',\n",
       " '2010-09-02.img',\n",
       " '2010-09-03.img',\n",
       " 'lccswm2010_4.img',\n",
       " 'priv_mod_v10_2011layer1.img',\n",
       " 'priv_mod_v10_2011layer2.img']"
      ]
     },
     "execution_count": 5,
     "metadata": {},
     "output_type": "execute_result"
    }
   ],
   "source": [
    "import os\n",
    "data_dir = \"data/images/\"\n",
    "f = list(filter(lambda filename: filename.endswith('.img'), os.listdir(data_dir)))\n",
    "f"
   ]
  },
  {
   "cell_type": "code",
   "execution_count": 22,
   "metadata": {},
   "outputs": [],
   "source": [
    "data_dir = \"data/images/\"\n",
    "\n",
    "sample_filename = \"lccswm2010_4.img\"\n",
    "features_filenames = [\n",
    "    \"priv_mod_v10_2011layer1.img\",\n",
    "    \"priv_mod_v10_2011layer2.img\",\n",
    "    \"2010-05-01.img\",\n",
    "    \"2010-05-02.img\",\n",
    "    \"2010-05-03.img\",\n",
    "    \"2010-07-01.img\",\n",
    "    \"2010-07-02.img\",\n",
    "    \"2010-07-03.img\",\n",
    "    \"2010-09-01.img\",\n",
    "    \"2010-09-02.img\",\n",
    "    \"2010-09-03.img\",\n",
    "]\n",
    "output_filename = \"lc_map.img\""
   ]
  },
  {
   "cell_type": "code",
   "execution_count": 33,
   "metadata": {},
   "outputs": [],
   "source": [
    "def get_sample_size(sample_filename: str) -> int:\n",
    "    sample_size = 0\n",
    "    sample_img = gdal.Open(sample_filename, gdal.GA_ReadOnly)\n",
    "    sample_band = sample_img.GetRasterBand(1)\n",
    "    size_x = sample_img.RasterXSize\n",
    "    size_y = sample_img.RasterYSize\n",
    "\n",
    "    for y in tqdm(range(size_y)):\n",
    "        vals = sample_band.ReadAsArray(0, y, size_x, 1)\n",
    "        nonzero_vals = np.count_nonzero(vals)\n",
    "        sample_size += nonzero_vals\n",
    "\n",
    "    return sample_size"
   ]
  },
  {
   "cell_type": "code",
   "execution_count": 37,
   "metadata": {},
   "outputs": [
    {
     "name": "stderr",
     "output_type": "stream",
     "text": [
      "100%|██████████| 24349/24349 [00:02<00:00, 11557.76it/s]\n"
     ]
    },
    {
     "name": "stdout",
     "output_type": "stream",
     "text": [
      "sample size: 74029669\n"
     ]
    }
   ],
   "source": [
    "sample_path = os.path.join(data_dir, sample_filename)\n",
    "sample_size = get_sample_size(sample_filename=sample_path)\n",
    "print(f\"sample size: {sample_size}\")"
   ]
  },
  {
   "cell_type": "code",
   "execution_count": 20,
   "metadata": {},
   "outputs": [
    {
     "name": "stderr",
     "output_type": "stream",
     "text": [
      "100%|██████████| 100/100 [00:26<00:00,  3.83it/s]\n"
     ]
    }
   ],
   "source": [
    "from time import sleep\n",
    "\n",
    "text = \"\"\n",
    "for i in tqdm(range(100)):\n",
    "    sleep(0.25)"
   ]
  },
  {
   "cell_type": "code",
   "execution_count": null,
   "metadata": {},
   "outputs": [],
   "source": [
    "def img_to_nparray():\n",
    "    ..."
   ]
  }
 ],
 "metadata": {
  "kernelspec": {
   "display_name": "Python 3.10.5 ('venv': venv)",
   "language": "python",
   "name": "python3"
  },
  "language_info": {
   "codemirror_mode": {
    "name": "ipython",
    "version": 3
   },
   "file_extension": ".py",
   "mimetype": "text/x-python",
   "name": "python",
   "nbconvert_exporter": "python",
   "pygments_lexer": "ipython3",
   "version": "3.8.7"
  },
  "orig_nbformat": 4,
  "vscode": {
   "interpreter": {
    "hash": "6d128c42ad77300b6cad6a20f2e09d544622ec65cadb99f8cd523daa68ef9cec"
   }
  }
 },
 "nbformat": 4,
 "nbformat_minor": 2
}
