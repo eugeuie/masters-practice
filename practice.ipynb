{
 "cells": [
  {
   "cell_type": "markdown",
   "metadata": {},
   "source": [
    "# Практика"
   ]
  },
  {
   "cell_type": "code",
   "execution_count": 47,
   "metadata": {},
   "outputs": [
    {
     "name": "stdout",
     "output_type": "stream",
     "text": [
      "CPU times: total: 0 ns\n",
      "Wall time: 0 ns\n"
     ]
    }
   ],
   "source": [
    "%%time\n",
    "\n",
    "import os\n",
    "import numpy as np\n",
    "import pandas as pd\n",
    "from tqdm import tqdm\n",
    "from osgeo import gdal\n",
    "from joblib import dump, load\n",
    "from sklearn.ensemble import RandomForestClassifier\n",
    "from sklearn.metrics import accuracy_score, f1_score\n",
    "\n",
    "SEED = 42"
   ]
  },
  {
   "cell_type": "code",
   "execution_count": 27,
   "metadata": {},
   "outputs": [
    {
     "name": "stdout",
     "output_type": "stream",
     "text": [
      "CPU times: total: 0 ns\n",
      "Wall time: 0 ns\n"
     ]
    }
   ],
   "source": [
    "%%time\n",
    "\n",
    "img_dir = \"data/images/\"\n",
    "\n",
    "sample_filename = \"lccswm2010_4.img\"\n",
    "channels_filenames = [\n",
    "    \"priv_mod_v10_2011layer1.img\",\n",
    "    \"priv_mod_v10_2011layer2.img\",\n",
    "    \"2010-05-01.img\",\n",
    "    \"2010-05-02.img\",\n",
    "    \"2010-05-03.img\",\n",
    "    \"2010-07-01.img\",\n",
    "    \"2010-07-02.img\",\n",
    "    \"2010-07-03.img\",\n",
    "    \"2010-09-01.img\",\n",
    "    \"2010-09-02.img\",\n",
    "    \"2010-09-03.img\",\n",
    "]\n",
    "output_filename = \"lc_map.img\"\n",
    "\n",
    "column_names = [\n",
    "    'CLASS',\n",
    "    'X',\n",
    "    'Y',\n",
    "    'WINTER1',\n",
    "    'WINTER2',\n",
    "    'SPRING1',\n",
    "    'SPRING2',\n",
    "    'SPRING3',\n",
    "    'SUMMER1',\n",
    "    'SUMMER2',\n",
    "    'SUMMER3',\n",
    "    'FALL1',\n",
    "    'FALL2',\n",
    "    'FALL3'\n",
    "]"
   ]
  },
  {
   "cell_type": "markdown",
   "metadata": {},
   "source": [
    "## Получение табличных данных из изображений"
   ]
  },
  {
   "cell_type": "code",
   "execution_count": 3,
   "metadata": {},
   "outputs": [
    {
     "name": "stdout",
     "output_type": "stream",
     "text": [
      "CPU times: total: 10.7 s\n",
      "Wall time: 11.3 s\n"
     ]
    }
   ],
   "source": [
    "%%time\n",
    "\n",
    "sample_path = os.path.join(img_dir, sample_filename)\n",
    "sample_img = gdal.Open(sample_path, gdal.GA_ReadOnly)\n",
    "\n",
    "sample_x_size = sample_img.RasterXSize\n",
    "sample_y_size = sample_img.RasterYSize\n",
    "\n",
    "sample_band = sample_img.GetRasterBand(1)\n",
    "sample_data = sample_band.ReadAsArray(0, 0, sample_x_size, sample_y_size)\n",
    "\n",
    "sample_img = None\n",
    "sample_band = None\n",
    "\n",
    "class_col = sample_data.ravel()[np.flatnonzero(sample_data)]\n",
    "y_col, x_col = np.nonzero(sample_data)"
   ]
  },
  {
   "cell_type": "code",
   "execution_count": 5,
   "metadata": {},
   "outputs": [
    {
     "name": "stdout",
     "output_type": "stream",
     "text": [
      "CPU times: total: 3.73 s\n",
      "Wall time: 5.27 s\n"
     ]
    }
   ],
   "source": [
    "%%time\n",
    "\n",
    "data = np.column_stack((class_col, x_col, y_col))"
   ]
  },
  {
   "cell_type": "code",
   "execution_count": 6,
   "metadata": {},
   "outputs": [
    {
     "name": "stdout",
     "output_type": "stream",
     "text": [
      "CPU times: total: 0 ns\n",
      "Wall time: 18 ms\n"
     ]
    },
    {
     "data": {
      "text/plain": [
       "array([[   20, 37492,  1429],\n",
       "       [   20, 37494,  1429],\n",
       "       [   20, 37495,  1429],\n",
       "       [   20, 37496,  1429],\n",
       "       [   20, 37487,  1431],\n",
       "       [   20, 37486,  1432],\n",
       "       [   20, 37487,  1432],\n",
       "       [   20, 37483,  1434],\n",
       "       [   20, 37484,  1434],\n",
       "       [   13, 37515,  1434]], dtype=int64)"
      ]
     },
     "execution_count": 6,
     "metadata": {},
     "output_type": "execute_result"
    }
   ],
   "source": [
    "%%time\n",
    "\n",
    "data[:10]"
   ]
  },
  {
   "cell_type": "code",
   "execution_count": 7,
   "metadata": {},
   "outputs": [
    {
     "name": "stdout",
     "output_type": "stream",
     "text": [
      "CPU times: total: 7min 21s\n",
      "Wall time: 24min 23s\n"
     ]
    }
   ],
   "source": [
    "%%time\n",
    "\n",
    "for channel_filename in channels_filenames:\n",
    "    channel_path = os.path.join(img_dir, channel_filename)\n",
    "    channel_img = gdal.Open(channel_path, gdal.GA_ReadOnly)\n",
    "\n",
    "    channel_x_size = channel_img.RasterXSize\n",
    "    channel_y_size = channel_img.RasterYSize\n",
    "\n",
    "    channel_band = channel_img.GetRasterBand(1)\n",
    "    channel_data = channel_band.ReadAsArray(0, 0, channel_x_size, channel_y_size)\n",
    "\n",
    "    channel_img = None\n",
    "    channel_band = None\n",
    "\n",
    "    channel_col = channel_data[y_col, x_col]\n",
    "\n",
    "    data = np.column_stack((data, channel_col))"
   ]
  },
  {
   "cell_type": "code",
   "execution_count": 31,
   "metadata": {},
   "outputs": [
    {
     "name": "stdout",
     "output_type": "stream",
     "text": [
      "CPU times: total: 0 ns\n",
      "Wall time: 0 ns\n"
     ]
    },
    {
     "data": {
      "text/plain": [
       "array([[   20, 37492,  1429,  5517,  4840,   406,   450,   264,   375,\n",
       "          450,   264,   406,   450,   264],\n",
       "       [   20, 37494,  1429,  6099,  5531,   499,   580,   349,   224,\n",
       "          580,   349,   499,   580,   349],\n",
       "       [   20, 37495,  1429,  6351,  5795,   533,   578,   596,   186,\n",
       "          578,   596,   533,   578,   596],\n",
       "       [   20, 37496,  1429,  6729,  6179,   379,   411,   573,   196,\n",
       "          411,   573,   379,   411,   573],\n",
       "       [   20, 37487,  1431,  7467,  6886,   197,   158,    90,   185,\n",
       "          158,    90,   145,    68,     3],\n",
       "       [   20, 37486,  1432,  7284,  6719,   191,   218,    47,   260,\n",
       "          218,    47,   127,    57,     8],\n",
       "       [   20, 37487,  1432,  6999,  6378,   343,   288,   379,   247,\n",
       "          288,   379,   190,    34,   239],\n",
       "       [   20, 37483,  1434,  5548,  4771,    30,    23,    22,   181,\n",
       "           23,    22,    30,    23,    22],\n",
       "       [   20, 37484,  1434,  5419,  4707,   113,    98,   197,   285,\n",
       "           98,   197,   197,   124,    38],\n",
       "       [   13, 37515,  1434,  9940,  9614,   602,   928,  1977,   776,\n",
       "          928,  1977,   625,   863,  1771]], dtype=int64)"
      ]
     },
     "execution_count": 31,
     "metadata": {},
     "output_type": "execute_result"
    }
   ],
   "source": [
    "%%time\n",
    "\n",
    "data[:10]"
   ]
  },
  {
   "cell_type": "code",
   "execution_count": 23,
   "metadata": {},
   "outputs": [
    {
     "name": "stdout",
     "output_type": "stream",
     "text": [
      "CPU times: total: 46.7 s\n",
      "Wall time: 3min 14s\n"
     ]
    }
   ],
   "source": [
    "%%time\n",
    "\n",
    "data_pandas = pd.DataFrame(data=data, columns=column_names, dtype=np.uint16)"
   ]
  },
  {
   "cell_type": "code",
   "execution_count": 24,
   "metadata": {},
   "outputs": [
    {
     "name": "stdout",
     "output_type": "stream",
     "text": [
      "CPU times: total: 5min 10s\n",
      "Wall time: 5min 50s\n"
     ]
    }
   ],
   "source": [
    "%%time\n",
    "\n",
    "data_pandas.to_csv('data/lc_sample.csv', index=False)"
   ]
  },
  {
   "cell_type": "code",
   "execution_count": 34,
   "metadata": {},
   "outputs": [
    {
     "name": "stdout",
     "output_type": "stream",
     "text": [
      "CPU times: total: 0 ns\n",
      "Wall time: 0 ns\n"
     ]
    },
    {
     "data": {
      "text/html": [
       "<div>\n",
       "<style scoped>\n",
       "    .dataframe tbody tr th:only-of-type {\n",
       "        vertical-align: middle;\n",
       "    }\n",
       "\n",
       "    .dataframe tbody tr th {\n",
       "        vertical-align: top;\n",
       "    }\n",
       "\n",
       "    .dataframe thead th {\n",
       "        text-align: right;\n",
       "    }\n",
       "</style>\n",
       "<table border=\"1\" class=\"dataframe\">\n",
       "  <thead>\n",
       "    <tr style=\"text-align: right;\">\n",
       "      <th></th>\n",
       "      <th>CLASS</th>\n",
       "      <th>X</th>\n",
       "      <th>Y</th>\n",
       "      <th>WINTER1</th>\n",
       "      <th>WINTER2</th>\n",
       "      <th>SPRING1</th>\n",
       "      <th>SPRING2</th>\n",
       "      <th>SPRING3</th>\n",
       "      <th>SUMMER1</th>\n",
       "      <th>SUMMER2</th>\n",
       "      <th>SUMMER3</th>\n",
       "      <th>FALL1</th>\n",
       "      <th>FALL2</th>\n",
       "      <th>FALL3</th>\n",
       "    </tr>\n",
       "  </thead>\n",
       "  <tbody>\n",
       "    <tr>\n",
       "      <th>0</th>\n",
       "      <td>20</td>\n",
       "      <td>37492</td>\n",
       "      <td>1429</td>\n",
       "      <td>5517</td>\n",
       "      <td>4840</td>\n",
       "      <td>406</td>\n",
       "      <td>450</td>\n",
       "      <td>264</td>\n",
       "      <td>375</td>\n",
       "      <td>450</td>\n",
       "      <td>264</td>\n",
       "      <td>406</td>\n",
       "      <td>450</td>\n",
       "      <td>264</td>\n",
       "    </tr>\n",
       "    <tr>\n",
       "      <th>1</th>\n",
       "      <td>20</td>\n",
       "      <td>37494</td>\n",
       "      <td>1429</td>\n",
       "      <td>6099</td>\n",
       "      <td>5531</td>\n",
       "      <td>499</td>\n",
       "      <td>580</td>\n",
       "      <td>349</td>\n",
       "      <td>224</td>\n",
       "      <td>580</td>\n",
       "      <td>349</td>\n",
       "      <td>499</td>\n",
       "      <td>580</td>\n",
       "      <td>349</td>\n",
       "    </tr>\n",
       "    <tr>\n",
       "      <th>2</th>\n",
       "      <td>20</td>\n",
       "      <td>37495</td>\n",
       "      <td>1429</td>\n",
       "      <td>6351</td>\n",
       "      <td>5795</td>\n",
       "      <td>533</td>\n",
       "      <td>578</td>\n",
       "      <td>596</td>\n",
       "      <td>186</td>\n",
       "      <td>578</td>\n",
       "      <td>596</td>\n",
       "      <td>533</td>\n",
       "      <td>578</td>\n",
       "      <td>596</td>\n",
       "    </tr>\n",
       "    <tr>\n",
       "      <th>3</th>\n",
       "      <td>20</td>\n",
       "      <td>37496</td>\n",
       "      <td>1429</td>\n",
       "      <td>6729</td>\n",
       "      <td>6179</td>\n",
       "      <td>379</td>\n",
       "      <td>411</td>\n",
       "      <td>573</td>\n",
       "      <td>196</td>\n",
       "      <td>411</td>\n",
       "      <td>573</td>\n",
       "      <td>379</td>\n",
       "      <td>411</td>\n",
       "      <td>573</td>\n",
       "    </tr>\n",
       "    <tr>\n",
       "      <th>4</th>\n",
       "      <td>20</td>\n",
       "      <td>37487</td>\n",
       "      <td>1431</td>\n",
       "      <td>7467</td>\n",
       "      <td>6886</td>\n",
       "      <td>197</td>\n",
       "      <td>158</td>\n",
       "      <td>90</td>\n",
       "      <td>185</td>\n",
       "      <td>158</td>\n",
       "      <td>90</td>\n",
       "      <td>145</td>\n",
       "      <td>68</td>\n",
       "      <td>3</td>\n",
       "    </tr>\n",
       "    <tr>\n",
       "      <th>5</th>\n",
       "      <td>20</td>\n",
       "      <td>37486</td>\n",
       "      <td>1432</td>\n",
       "      <td>7284</td>\n",
       "      <td>6719</td>\n",
       "      <td>191</td>\n",
       "      <td>218</td>\n",
       "      <td>47</td>\n",
       "      <td>260</td>\n",
       "      <td>218</td>\n",
       "      <td>47</td>\n",
       "      <td>127</td>\n",
       "      <td>57</td>\n",
       "      <td>8</td>\n",
       "    </tr>\n",
       "    <tr>\n",
       "      <th>6</th>\n",
       "      <td>20</td>\n",
       "      <td>37487</td>\n",
       "      <td>1432</td>\n",
       "      <td>6999</td>\n",
       "      <td>6378</td>\n",
       "      <td>343</td>\n",
       "      <td>288</td>\n",
       "      <td>379</td>\n",
       "      <td>247</td>\n",
       "      <td>288</td>\n",
       "      <td>379</td>\n",
       "      <td>190</td>\n",
       "      <td>34</td>\n",
       "      <td>239</td>\n",
       "    </tr>\n",
       "    <tr>\n",
       "      <th>7</th>\n",
       "      <td>20</td>\n",
       "      <td>37483</td>\n",
       "      <td>1434</td>\n",
       "      <td>5548</td>\n",
       "      <td>4771</td>\n",
       "      <td>30</td>\n",
       "      <td>23</td>\n",
       "      <td>22</td>\n",
       "      <td>181</td>\n",
       "      <td>23</td>\n",
       "      <td>22</td>\n",
       "      <td>30</td>\n",
       "      <td>23</td>\n",
       "      <td>22</td>\n",
       "    </tr>\n",
       "    <tr>\n",
       "      <th>8</th>\n",
       "      <td>20</td>\n",
       "      <td>37484</td>\n",
       "      <td>1434</td>\n",
       "      <td>5419</td>\n",
       "      <td>4707</td>\n",
       "      <td>113</td>\n",
       "      <td>98</td>\n",
       "      <td>197</td>\n",
       "      <td>285</td>\n",
       "      <td>98</td>\n",
       "      <td>197</td>\n",
       "      <td>197</td>\n",
       "      <td>124</td>\n",
       "      <td>38</td>\n",
       "    </tr>\n",
       "    <tr>\n",
       "      <th>9</th>\n",
       "      <td>13</td>\n",
       "      <td>37515</td>\n",
       "      <td>1434</td>\n",
       "      <td>9940</td>\n",
       "      <td>9614</td>\n",
       "      <td>602</td>\n",
       "      <td>928</td>\n",
       "      <td>1977</td>\n",
       "      <td>776</td>\n",
       "      <td>928</td>\n",
       "      <td>1977</td>\n",
       "      <td>625</td>\n",
       "      <td>863</td>\n",
       "      <td>1771</td>\n",
       "    </tr>\n",
       "  </tbody>\n",
       "</table>\n",
       "</div>"
      ],
      "text/plain": [
       "   CLASS      X     Y  WINTER1  WINTER2  SPRING1  SPRING2  SPRING3  SUMMER1  \\\n",
       "0     20  37492  1429     5517     4840      406      450      264      375   \n",
       "1     20  37494  1429     6099     5531      499      580      349      224   \n",
       "2     20  37495  1429     6351     5795      533      578      596      186   \n",
       "3     20  37496  1429     6729     6179      379      411      573      196   \n",
       "4     20  37487  1431     7467     6886      197      158       90      185   \n",
       "5     20  37486  1432     7284     6719      191      218       47      260   \n",
       "6     20  37487  1432     6999     6378      343      288      379      247   \n",
       "7     20  37483  1434     5548     4771       30       23       22      181   \n",
       "8     20  37484  1434     5419     4707      113       98      197      285   \n",
       "9     13  37515  1434     9940     9614      602      928     1977      776   \n",
       "\n",
       "   SUMMER2  SUMMER3  FALL1  FALL2  FALL3  \n",
       "0      450      264    406    450    264  \n",
       "1      580      349    499    580    349  \n",
       "2      578      596    533    578    596  \n",
       "3      411      573    379    411    573  \n",
       "4      158       90    145     68      3  \n",
       "5      218       47    127     57      8  \n",
       "6      288      379    190     34    239  \n",
       "7       23       22     30     23     22  \n",
       "8       98      197    197    124     38  \n",
       "9      928     1977    625    863   1771  "
      ]
     },
     "execution_count": 34,
     "metadata": {},
     "output_type": "execute_result"
    }
   ],
   "source": [
    "%%time\n",
    "\n",
    "data_pandas.head(10)"
   ]
  },
  {
   "cell_type": "code",
   "execution_count": 35,
   "metadata": {},
   "outputs": [
    {
     "name": "stdout",
     "output_type": "stream",
     "text": [
      "CPU times: total: 1min 2s\n",
      "Wall time: 1min 36s\n"
     ]
    },
    {
     "data": {
      "text/html": [
       "<div>\n",
       "<style scoped>\n",
       "    .dataframe tbody tr th:only-of-type {\n",
       "        vertical-align: middle;\n",
       "    }\n",
       "\n",
       "    .dataframe tbody tr th {\n",
       "        vertical-align: top;\n",
       "    }\n",
       "\n",
       "    .dataframe thead th {\n",
       "        text-align: right;\n",
       "    }\n",
       "</style>\n",
       "<table border=\"1\" class=\"dataframe\">\n",
       "  <thead>\n",
       "    <tr style=\"text-align: right;\">\n",
       "      <th></th>\n",
       "      <th>CLASS</th>\n",
       "      <th>X</th>\n",
       "      <th>Y</th>\n",
       "      <th>WINTER1</th>\n",
       "      <th>WINTER2</th>\n",
       "      <th>SPRING1</th>\n",
       "      <th>SPRING2</th>\n",
       "      <th>SPRING3</th>\n",
       "      <th>SUMMER1</th>\n",
       "      <th>SUMMER2</th>\n",
       "      <th>SUMMER3</th>\n",
       "      <th>FALL1</th>\n",
       "      <th>FALL2</th>\n",
       "      <th>FALL3</th>\n",
       "    </tr>\n",
       "  </thead>\n",
       "  <tbody>\n",
       "    <tr>\n",
       "      <th>count</th>\n",
       "      <td>7.402967e+07</td>\n",
       "      <td>7.402967e+07</td>\n",
       "      <td>7.402967e+07</td>\n",
       "      <td>7.402967e+07</td>\n",
       "      <td>7.402967e+07</td>\n",
       "      <td>7.402967e+07</td>\n",
       "      <td>7.402967e+07</td>\n",
       "      <td>7.402967e+07</td>\n",
       "      <td>7.402967e+07</td>\n",
       "      <td>7.402967e+07</td>\n",
       "      <td>7.402967e+07</td>\n",
       "      <td>7.402967e+07</td>\n",
       "      <td>7.402967e+07</td>\n",
       "      <td>7.402967e+07</td>\n",
       "    </tr>\n",
       "    <tr>\n",
       "      <th>mean</th>\n",
       "      <td>7.611120e+00</td>\n",
       "      <td>2.437672e+04</td>\n",
       "      <td>1.200240e+04</td>\n",
       "      <td>4.548318e+03</td>\n",
       "      <td>4.731402e+03</td>\n",
       "      <td>5.489833e+02</td>\n",
       "      <td>2.052998e+03</td>\n",
       "      <td>1.848421e+03</td>\n",
       "      <td>4.214263e+02</td>\n",
       "      <td>2.556332e+03</td>\n",
       "      <td>1.787649e+03</td>\n",
       "      <td>5.124377e+02</td>\n",
       "      <td>2.131846e+03</td>\n",
       "      <td>1.697764e+03</td>\n",
       "    </tr>\n",
       "    <tr>\n",
       "      <th>std</th>\n",
       "      <td>6.342813e+00</td>\n",
       "      <td>8.210278e+03</td>\n",
       "      <td>3.491216e+03</td>\n",
       "      <td>2.416994e+03</td>\n",
       "      <td>2.041213e+03</td>\n",
       "      <td>2.223997e+02</td>\n",
       "      <td>5.913594e+02</td>\n",
       "      <td>5.440460e+02</td>\n",
       "      <td>2.519643e+02</td>\n",
       "      <td>7.018792e+02</td>\n",
       "      <td>5.476155e+02</td>\n",
       "      <td>2.537448e+02</td>\n",
       "      <td>5.484777e+02</td>\n",
       "      <td>5.823136e+02</td>\n",
       "    </tr>\n",
       "    <tr>\n",
       "      <th>min</th>\n",
       "      <td>1.000000e+00</td>\n",
       "      <td>5.820000e+03</td>\n",
       "      <td>1.429000e+03</td>\n",
       "      <td>0.000000e+00</td>\n",
       "      <td>0.000000e+00</td>\n",
       "      <td>1.000000e+00</td>\n",
       "      <td>1.000000e+00</td>\n",
       "      <td>1.000000e+00</td>\n",
       "      <td>1.000000e+00</td>\n",
       "      <td>1.000000e+00</td>\n",
       "      <td>1.000000e+00</td>\n",
       "      <td>1.000000e+00</td>\n",
       "      <td>1.000000e+00</td>\n",
       "      <td>1.000000e+00</td>\n",
       "    </tr>\n",
       "    <tr>\n",
       "      <th>25%</th>\n",
       "      <td>3.000000e+00</td>\n",
       "      <td>1.787400e+04</td>\n",
       "      <td>9.354000e+03</td>\n",
       "      <td>2.529000e+03</td>\n",
       "      <td>3.018000e+03</td>\n",
       "      <td>3.830000e+02</td>\n",
       "      <td>1.693000e+03</td>\n",
       "      <td>1.519000e+03</td>\n",
       "      <td>2.550000e+02</td>\n",
       "      <td>2.174000e+03</td>\n",
       "      <td>1.474000e+03</td>\n",
       "      <td>3.380000e+02</td>\n",
       "      <td>1.835000e+03</td>\n",
       "      <td>1.355000e+03</td>\n",
       "    </tr>\n",
       "    <tr>\n",
       "      <th>50%</th>\n",
       "      <td>4.000000e+00</td>\n",
       "      <td>2.534800e+04</td>\n",
       "      <td>1.214300e+04</td>\n",
       "      <td>3.989000e+03</td>\n",
       "      <td>4.178000e+03</td>\n",
       "      <td>5.060000e+02</td>\n",
       "      <td>1.966000e+03</td>\n",
       "      <td>1.812000e+03</td>\n",
       "      <td>3.330000e+02</td>\n",
       "      <td>2.462000e+03</td>\n",
       "      <td>1.704000e+03</td>\n",
       "      <td>4.700000e+02</td>\n",
       "      <td>2.098000e+03</td>\n",
       "      <td>1.613000e+03</td>\n",
       "    </tr>\n",
       "    <tr>\n",
       "      <th>75%</th>\n",
       "      <td>1.200000e+01</td>\n",
       "      <td>3.073000e+04</td>\n",
       "      <td>1.444100e+04</td>\n",
       "      <td>6.667000e+03</td>\n",
       "      <td>6.565000e+03</td>\n",
       "      <td>6.800000e+02</td>\n",
       "      <td>2.374000e+03</td>\n",
       "      <td>2.191000e+03</td>\n",
       "      <td>5.080000e+02</td>\n",
       "      <td>2.939000e+03</td>\n",
       "      <td>2.069000e+03</td>\n",
       "      <td>6.230000e+02</td>\n",
       "      <td>2.467000e+03</td>\n",
       "      <td>1.994000e+03</td>\n",
       "    </tr>\n",
       "    <tr>\n",
       "      <th>max</th>\n",
       "      <td>2.300000e+01</td>\n",
       "      <td>4.016100e+04</td>\n",
       "      <td>2.058000e+04</td>\n",
       "      <td>1.058300e+04</td>\n",
       "      <td>1.058400e+04</td>\n",
       "      <td>8.653000e+03</td>\n",
       "      <td>7.018000e+03</td>\n",
       "      <td>5.211000e+03</td>\n",
       "      <td>8.653000e+03</td>\n",
       "      <td>6.907000e+03</td>\n",
       "      <td>4.923000e+03</td>\n",
       "      <td>8.653000e+03</td>\n",
       "      <td>6.907000e+03</td>\n",
       "      <td>5.280000e+03</td>\n",
       "    </tr>\n",
       "  </tbody>\n",
       "</table>\n",
       "</div>"
      ],
      "text/plain": [
       "              CLASS             X             Y       WINTER1       WINTER2  \\\n",
       "count  7.402967e+07  7.402967e+07  7.402967e+07  7.402967e+07  7.402967e+07   \n",
       "mean   7.611120e+00  2.437672e+04  1.200240e+04  4.548318e+03  4.731402e+03   \n",
       "std    6.342813e+00  8.210278e+03  3.491216e+03  2.416994e+03  2.041213e+03   \n",
       "min    1.000000e+00  5.820000e+03  1.429000e+03  0.000000e+00  0.000000e+00   \n",
       "25%    3.000000e+00  1.787400e+04  9.354000e+03  2.529000e+03  3.018000e+03   \n",
       "50%    4.000000e+00  2.534800e+04  1.214300e+04  3.989000e+03  4.178000e+03   \n",
       "75%    1.200000e+01  3.073000e+04  1.444100e+04  6.667000e+03  6.565000e+03   \n",
       "max    2.300000e+01  4.016100e+04  2.058000e+04  1.058300e+04  1.058400e+04   \n",
       "\n",
       "            SPRING1       SPRING2       SPRING3       SUMMER1       SUMMER2  \\\n",
       "count  7.402967e+07  7.402967e+07  7.402967e+07  7.402967e+07  7.402967e+07   \n",
       "mean   5.489833e+02  2.052998e+03  1.848421e+03  4.214263e+02  2.556332e+03   \n",
       "std    2.223997e+02  5.913594e+02  5.440460e+02  2.519643e+02  7.018792e+02   \n",
       "min    1.000000e+00  1.000000e+00  1.000000e+00  1.000000e+00  1.000000e+00   \n",
       "25%    3.830000e+02  1.693000e+03  1.519000e+03  2.550000e+02  2.174000e+03   \n",
       "50%    5.060000e+02  1.966000e+03  1.812000e+03  3.330000e+02  2.462000e+03   \n",
       "75%    6.800000e+02  2.374000e+03  2.191000e+03  5.080000e+02  2.939000e+03   \n",
       "max    8.653000e+03  7.018000e+03  5.211000e+03  8.653000e+03  6.907000e+03   \n",
       "\n",
       "            SUMMER3         FALL1         FALL2         FALL3  \n",
       "count  7.402967e+07  7.402967e+07  7.402967e+07  7.402967e+07  \n",
       "mean   1.787649e+03  5.124377e+02  2.131846e+03  1.697764e+03  \n",
       "std    5.476155e+02  2.537448e+02  5.484777e+02  5.823136e+02  \n",
       "min    1.000000e+00  1.000000e+00  1.000000e+00  1.000000e+00  \n",
       "25%    1.474000e+03  3.380000e+02  1.835000e+03  1.355000e+03  \n",
       "50%    1.704000e+03  4.700000e+02  2.098000e+03  1.613000e+03  \n",
       "75%    2.069000e+03  6.230000e+02  2.467000e+03  1.994000e+03  \n",
       "max    4.923000e+03  8.653000e+03  6.907000e+03  5.280000e+03  "
      ]
     },
     "execution_count": 35,
     "metadata": {},
     "output_type": "execute_result"
    }
   ],
   "source": [
    "%%time\n",
    "\n",
    "data_pandas.describe()"
   ]
  },
  {
   "cell_type": "markdown",
   "metadata": {},
   "source": [
    "## Классификация"
   ]
  },
  {
   "cell_type": "markdown",
   "metadata": {},
   "source": [
    "### Разделение выборки на обучающую и тестовую"
   ]
  },
  {
   "cell_type": "code",
   "execution_count": 3,
   "metadata": {},
   "outputs": [
    {
     "name": "stdout",
     "output_type": "stream",
     "text": [
      "CPU times: total: 1min 17s\n",
      "Wall time: 1min 22s\n"
     ]
    }
   ],
   "source": [
    "%%time\n",
    "\n",
    "data = pd.read_csv('data/lc_sample.csv', index_col=False, dtype=np.uint16)"
   ]
  },
  {
   "cell_type": "code",
   "execution_count": 14,
   "metadata": {},
   "outputs": [
    {
     "name": "stdout",
     "output_type": "stream",
     "text": [
      "CPU times: total: 32.9 s\n",
      "Wall time: 47.1 s\n"
     ]
    }
   ],
   "source": [
    "%%time\n",
    "\n",
    "msk = np.random.rand(len(data)) <= 0.9\n",
    "\n",
    "data_train = data[~msk]\n",
    "data_test = data[msk]"
   ]
  },
  {
   "cell_type": "code",
   "execution_count": 16,
   "metadata": {},
   "outputs": [
    {
     "name": "stdout",
     "output_type": "stream",
     "text": [
      "CPU times: total: 0 ns\n",
      "Wall time: 0 ns\n"
     ]
    },
    {
     "data": {
      "text/plain": [
       "((74029669, 14), (7406365, 14), (66623304, 14))"
      ]
     },
     "execution_count": 16,
     "metadata": {},
     "output_type": "execute_result"
    }
   ],
   "source": [
    "%%time\n",
    "\n",
    "data.shape, data_train.shape, data_test.shape"
   ]
  },
  {
   "cell_type": "code",
   "execution_count": 17,
   "metadata": {},
   "outputs": [
    {
     "name": "stdout",
     "output_type": "stream",
     "text": [
      "CPU times: total: 5min 30s\n",
      "Wall time: 6min 6s\n"
     ]
    }
   ],
   "source": [
    "%%time\n",
    "\n",
    "data_train.to_csv('data/lc_sample_train.csv', index=False)\n",
    "data_test.to_csv('data/lc_sample_control.csv', index=False)"
   ]
  },
  {
   "cell_type": "markdown",
   "metadata": {},
   "source": [
    "### Обучение и классификация"
   ]
  },
  {
   "cell_type": "code",
   "execution_count": 2,
   "metadata": {},
   "outputs": [
    {
     "name": "stdout",
     "output_type": "stream",
     "text": [
      "CPU times: total: 7.45 s\n",
      "Wall time: 8.3 s\n"
     ]
    }
   ],
   "source": [
    "%%time\n",
    "\n",
    "data_train = pd.read_csv('data/lc_sample_train.csv', dtype=np.uint16, index_col=False)"
   ]
  },
  {
   "cell_type": "code",
   "execution_count": 6,
   "metadata": {},
   "outputs": [
    {
     "name": "stdout",
     "output_type": "stream",
     "text": [
      "CPU times: total: 1.56 s\n",
      "Wall time: 2.08 s\n"
     ]
    },
    {
     "data": {
      "text/plain": [
       "((7406365, 13), (7406365,))"
      ]
     },
     "execution_count": 6,
     "metadata": {},
     "output_type": "execute_result"
    }
   ],
   "source": [
    "%%time\n",
    "\n",
    "X_train = data_train[data_train.columns.drop(\"CLASS\")]\n",
    "y_train = data_train[\"CLASS\"]\n",
    "X_train.shape, y_train.shape"
   ]
  },
  {
   "cell_type": "code",
   "execution_count": 7,
   "metadata": {},
   "outputs": [
    {
     "name": "stdout",
     "output_type": "stream",
     "text": [
      "CPU times: total: 15.6 ms\n",
      "Wall time: 9 ms\n"
     ]
    }
   ],
   "source": [
    "%%time\n",
    "\n",
    "rf = RandomForestClassifier(n_jobs=-1, oob_score=True, random_state=SEED)"
   ]
  },
  {
   "cell_type": "code",
   "execution_count": 8,
   "metadata": {},
   "outputs": [
    {
     "name": "stdout",
     "output_type": "stream",
     "text": [
      "CPU times: total: 2h 48min 24s\n",
      "Wall time: 52min 27s\n"
     ]
    },
    {
     "data": {
      "text/html": [
       "<style>#sk-container-id-1 {color: black;background-color: white;}#sk-container-id-1 pre{padding: 0;}#sk-container-id-1 div.sk-toggleable {background-color: white;}#sk-container-id-1 label.sk-toggleable__label {cursor: pointer;display: block;width: 100%;margin-bottom: 0;padding: 0.3em;box-sizing: border-box;text-align: center;}#sk-container-id-1 label.sk-toggleable__label-arrow:before {content: \"▸\";float: left;margin-right: 0.25em;color: #696969;}#sk-container-id-1 label.sk-toggleable__label-arrow:hover:before {color: black;}#sk-container-id-1 div.sk-estimator:hover label.sk-toggleable__label-arrow:before {color: black;}#sk-container-id-1 div.sk-toggleable__content {max-height: 0;max-width: 0;overflow: hidden;text-align: left;background-color: #f0f8ff;}#sk-container-id-1 div.sk-toggleable__content pre {margin: 0.2em;color: black;border-radius: 0.25em;background-color: #f0f8ff;}#sk-container-id-1 input.sk-toggleable__control:checked~div.sk-toggleable__content {max-height: 200px;max-width: 100%;overflow: auto;}#sk-container-id-1 input.sk-toggleable__control:checked~label.sk-toggleable__label-arrow:before {content: \"▾\";}#sk-container-id-1 div.sk-estimator input.sk-toggleable__control:checked~label.sk-toggleable__label {background-color: #d4ebff;}#sk-container-id-1 div.sk-label input.sk-toggleable__control:checked~label.sk-toggleable__label {background-color: #d4ebff;}#sk-container-id-1 input.sk-hidden--visually {border: 0;clip: rect(1px 1px 1px 1px);clip: rect(1px, 1px, 1px, 1px);height: 1px;margin: -1px;overflow: hidden;padding: 0;position: absolute;width: 1px;}#sk-container-id-1 div.sk-estimator {font-family: monospace;background-color: #f0f8ff;border: 1px dotted black;border-radius: 0.25em;box-sizing: border-box;margin-bottom: 0.5em;}#sk-container-id-1 div.sk-estimator:hover {background-color: #d4ebff;}#sk-container-id-1 div.sk-parallel-item::after {content: \"\";width: 100%;border-bottom: 1px solid gray;flex-grow: 1;}#sk-container-id-1 div.sk-label:hover label.sk-toggleable__label {background-color: #d4ebff;}#sk-container-id-1 div.sk-serial::before {content: \"\";position: absolute;border-left: 1px solid gray;box-sizing: border-box;top: 0;bottom: 0;left: 50%;z-index: 0;}#sk-container-id-1 div.sk-serial {display: flex;flex-direction: column;align-items: center;background-color: white;padding-right: 0.2em;padding-left: 0.2em;position: relative;}#sk-container-id-1 div.sk-item {position: relative;z-index: 1;}#sk-container-id-1 div.sk-parallel {display: flex;align-items: stretch;justify-content: center;background-color: white;position: relative;}#sk-container-id-1 div.sk-item::before, #sk-container-id-1 div.sk-parallel-item::before {content: \"\";position: absolute;border-left: 1px solid gray;box-sizing: border-box;top: 0;bottom: 0;left: 50%;z-index: -1;}#sk-container-id-1 div.sk-parallel-item {display: flex;flex-direction: column;z-index: 1;position: relative;background-color: white;}#sk-container-id-1 div.sk-parallel-item:first-child::after {align-self: flex-end;width: 50%;}#sk-container-id-1 div.sk-parallel-item:last-child::after {align-self: flex-start;width: 50%;}#sk-container-id-1 div.sk-parallel-item:only-child::after {width: 0;}#sk-container-id-1 div.sk-dashed-wrapped {border: 1px dashed gray;margin: 0 0.4em 0.5em 0.4em;box-sizing: border-box;padding-bottom: 0.4em;background-color: white;}#sk-container-id-1 div.sk-label label {font-family: monospace;font-weight: bold;display: inline-block;line-height: 1.2em;}#sk-container-id-1 div.sk-label-container {text-align: center;}#sk-container-id-1 div.sk-container {/* jupyter's `normalize.less` sets `[hidden] { display: none; }` but bootstrap.min.css set `[hidden] { display: none !important; }` so we also need the `!important` here to be able to override the default hidden behavior on the sphinx rendered scikit-learn.org. See: https://github.com/scikit-learn/scikit-learn/issues/21755 */display: inline-block !important;position: relative;}#sk-container-id-1 div.sk-text-repr-fallback {display: none;}</style><div id=\"sk-container-id-1\" class=\"sk-top-container\"><div class=\"sk-text-repr-fallback\"><pre>RandomForestClassifier(n_jobs=-1, oob_score=True, random_state=42)</pre><b>In a Jupyter environment, please rerun this cell to show the HTML representation or trust the notebook. <br />On GitHub, the HTML representation is unable to render, please try loading this page with nbviewer.org.</b></div><div class=\"sk-container\" hidden><div class=\"sk-item\"><div class=\"sk-estimator sk-toggleable\"><input class=\"sk-toggleable__control sk-hidden--visually\" id=\"sk-estimator-id-1\" type=\"checkbox\" checked><label for=\"sk-estimator-id-1\" class=\"sk-toggleable__label sk-toggleable__label-arrow\">RandomForestClassifier</label><div class=\"sk-toggleable__content\"><pre>RandomForestClassifier(n_jobs=-1, oob_score=True, random_state=42)</pre></div></div></div></div></div>"
      ],
      "text/plain": [
       "RandomForestClassifier(n_jobs=-1, oob_score=True, random_state=42)"
      ]
     },
     "execution_count": 8,
     "metadata": {},
     "output_type": "execute_result"
    }
   ],
   "source": [
    "%%time\n",
    "\n",
    "rf.fit(X_train, y_train)"
   ]
  },
  {
   "cell_type": "code",
   "execution_count": 2,
   "metadata": {},
   "outputs": [
    {
     "name": "stdout",
     "output_type": "stream",
     "text": [
      "CPU times: total: 26.2 s\n",
      "Wall time: 2min 25s\n"
     ]
    }
   ],
   "source": [
    "%%time\n",
    "\n",
    "# dump(rf, 'data/backups/rf_fitted_on_data_train.joblib')\n",
    "rf = load('data/backups/rf_fitted_on_data_train.joblib')"
   ]
  },
  {
   "cell_type": "code",
   "execution_count": 11,
   "metadata": {},
   "outputs": [
    {
     "name": "stdout",
     "output_type": "stream",
     "text": [
      "CPU times: total: 0 ns\n",
      "Wall time: 1 ms\n"
     ]
    },
    {
     "data": {
      "text/plain": [
       "0.976938484668255"
      ]
     },
     "execution_count": 11,
     "metadata": {},
     "output_type": "execute_result"
    }
   ],
   "source": [
    "%%time\n",
    "\n",
    "oob = rf.oob_score_\n",
    "oob"
   ]
  },
  {
   "cell_type": "code",
   "execution_count": 12,
   "metadata": {},
   "outputs": [
    {
     "name": "stdout",
     "output_type": "stream",
     "text": [
      "CPU times: total: 1min 21s\n",
      "Wall time: 1min 32s\n"
     ]
    }
   ],
   "source": [
    "%%time\n",
    "\n",
    "data_test = pd.read_csv('data/lc_sample_control.csv', dtype=np.uint16, index_col=False)"
   ]
  },
  {
   "cell_type": "code",
   "execution_count": 13,
   "metadata": {},
   "outputs": [
    {
     "name": "stdout",
     "output_type": "stream",
     "text": [
      "CPU times: total: 4.7 s\n",
      "Wall time: 7.28 s\n"
     ]
    },
    {
     "data": {
      "text/plain": [
       "((66623304, 13), (66623304,))"
      ]
     },
     "execution_count": 13,
     "metadata": {},
     "output_type": "execute_result"
    }
   ],
   "source": [
    "%%time\n",
    "\n",
    "X_test = data_test[data_test.columns.drop(\"CLASS\")]\n",
    "y_test = data_test[\"CLASS\"]\n",
    "X_test.shape, y_test.shape"
   ]
  },
  {
   "cell_type": "code",
   "execution_count": 18,
   "metadata": {},
   "outputs": [
    {
     "name": "stdout",
     "output_type": "stream",
     "text": [
      "CPU times: total: 5min 38s\n",
      "Wall time: 6min 25s\n"
     ]
    }
   ],
   "source": [
    "%%time\n",
    "\n",
    "X_test.to_csv('data/X_test.csv', index=False)\n",
    "y_test.to_csv('data/y_test.csv', index=False)"
   ]
  },
  {
   "cell_type": "code",
   "execution_count": 3,
   "metadata": {},
   "outputs": [
    {
     "name": "stdout",
     "output_type": "stream",
     "text": [
      "CPU times: total: 1min 13s\n",
      "Wall time: 1min 22s\n"
     ]
    }
   ],
   "source": [
    "%%time\n",
    "\n",
    "X_test = pd.read_csv('data/X_test.csv', dtype=np.uint16, index_col=False)\n",
    "y_test = pd.read_csv('data/y_test.csv', dtype=np.uint16, index_col=False)"
   ]
  },
  {
   "cell_type": "code",
   "execution_count": 5,
   "metadata": {},
   "outputs": [
    {
     "data": {
      "text/plain": [
       "14"
      ]
     },
     "execution_count": 5,
     "metadata": {},
     "output_type": "execute_result"
    }
   ],
   "source": [
    "chunksize = 5000000\n",
    "chunks_number = int(np.ceil(X_test.shape[0] / chunksize))\n",
    "chunks_number"
   ]
  },
  {
   "cell_type": "code",
   "execution_count": 6,
   "metadata": {},
   "outputs": [
    {
     "name": "stdout",
     "output_type": "stream",
     "text": [
      "CPU times: total: 5min 49s\n",
      "Wall time: 7min 4s\n"
     ]
    }
   ],
   "source": [
    "%%time\n",
    "\n",
    "for i, chunk in enumerate(pd.read_csv('data/X_test.csv', dtype=np.uint16, chunksize=chunksize)):\n",
    "    chunk.to_csv(f'data/backups/X_test_chunk_{i}.csv', index=False)"
   ]
  },
  {
   "cell_type": "code",
   "execution_count": 7,
   "metadata": {},
   "outputs": [
    {
     "name": "stdout",
     "output_type": "stream",
     "text": [
      "CPU times: total: 1h 39min 12s\n",
      "Wall time: 40min 2s\n"
     ]
    }
   ],
   "source": [
    "%%time\n",
    "\n",
    "y_pred = []\n",
    "for i in range(chunks_number):\n",
    "    X_test = pd.read_csv(f'data/backups/X_test_chunk_{i}.csv', dtype=np.uint16)\n",
    "    y_pred += list(rf.predict(X_test))\n",
    "\n",
    "y_pred = np.array(y_pred)"
   ]
  },
  {
   "cell_type": "code",
   "execution_count": 9,
   "metadata": {},
   "outputs": [
    {
     "name": "stdout",
     "output_type": "stream",
     "text": [
      "CPU times: total: 1min 4s\n",
      "Wall time: 1min 6s\n"
     ]
    }
   ],
   "source": [
    "%%time\n",
    "\n",
    "y_pred_series = pd.Series(y_pred)\n",
    "y_pred_series.to_csv('data/y_pred.csv', index=False)"
   ]
  },
  {
   "cell_type": "code",
   "execution_count": 13,
   "metadata": {},
   "outputs": [
    {
     "name": "stdout",
     "output_type": "stream",
     "text": [
      "CPU times: total: 22.5 s\n",
      "Wall time: 23.4 s\n"
     ]
    },
    {
     "data": {
      "text/plain": [
       "0.9775497095053868"
      ]
     },
     "execution_count": 13,
     "metadata": {},
     "output_type": "execute_result"
    }
   ],
   "source": [
    "%%time\n",
    "\n",
    "f1_score_weighted = f1_score(y_test, y_pred, average='weighted')\n",
    "f1_score_weighted"
   ]
  },
  {
   "cell_type": "code",
   "execution_count": 14,
   "metadata": {},
   "outputs": [
    {
     "name": "stdout",
     "output_type": "stream",
     "text": [
      "CPU times: total: 3.08 s\n",
      "Wall time: 3.69 s\n"
     ]
    },
    {
     "data": {
      "text/plain": [
       "0.9777492272073447"
      ]
     },
     "execution_count": 14,
     "metadata": {},
     "output_type": "execute_result"
    }
   ],
   "source": [
    "%%time\n",
    "\n",
    "accuracy = accuracy_score(y_test, y_pred)\n",
    "accuracy"
   ]
  },
  {
   "cell_type": "markdown",
   "metadata": {},
   "source": [
    "## Получение карты земного покрова по результатам классификации"
   ]
  },
  {
   "cell_type": "code",
   "execution_count": 3,
   "metadata": {},
   "outputs": [
    {
     "name": "stdout",
     "output_type": "stream",
     "text": [
      "CPU times: total: 1min 10s\n",
      "Wall time: 1min 17s\n"
     ]
    }
   ],
   "source": [
    "%%time\n",
    "\n",
    "X_test = pd.read_csv('data/X_test.csv', index_col=False, dtype=np.uint16)\n",
    "y_pred = pd.read_csv('data/y_pred.csv', index_col=False, dtype=np.uint16)"
   ]
  },
  {
   "cell_type": "code",
   "execution_count": 8,
   "metadata": {},
   "outputs": [
    {
     "name": "stdout",
     "output_type": "stream",
     "text": [
      "CPU times: total: 0 ns\n",
      "Wall time: 0 ns\n"
     ]
    }
   ],
   "source": [
    "%%time\n",
    "\n",
    "xs, ys = X_test['X'], X_test['Y']\n",
    "X_test = None"
   ]
  },
  {
   "cell_type": "code",
   "execution_count": 22,
   "metadata": {},
   "outputs": [
    {
     "name": "stdout",
     "output_type": "stream",
     "text": [
      "CPU times: total: 125 ms\n",
      "Wall time: 146 ms\n"
     ]
    }
   ],
   "source": [
    "%%time\n",
    "\n",
    "xs = np.array(xs)\n",
    "ys = np.array(ys)\n",
    "y_pred = np.array(y_pred).ravel()"
   ]
  },
  {
   "cell_type": "code",
   "execution_count": 25,
   "metadata": {},
   "outputs": [
    {
     "data": {
      "text/plain": [
       "(array([37492, 37494, 37495, ..., 35628, 35631, 35632], dtype=uint16),\n",
       " array([ 1429,  1429,  1429, ..., 20580, 20580, 20580], dtype=uint16),\n",
       " array([20, 13, 13, ...,  8,  8,  8], dtype=uint16))"
      ]
     },
     "execution_count": 25,
     "metadata": {},
     "output_type": "execute_result"
    }
   ],
   "source": [
    "xs, ys, y_pred"
   ]
  },
  {
   "cell_type": "code",
   "execution_count": 52,
   "metadata": {},
   "outputs": [
    {
     "name": "stdout",
     "output_type": "stream",
     "text": [
      "CPU times: total: 609 ms\n",
      "Wall time: 720 ms\n"
     ]
    }
   ],
   "source": [
    "%%time\n",
    "\n",
    "sample_path = os.path.join(img_dir, sample_filename)\n",
    "sample_img = gdal.Open(sample_path, gdal.GA_ReadOnly)\n",
    "\n",
    "output_path = os.path.join(img_dir, output_filename)\n",
    "driver = sample_img.GetDriver()\n",
    "output_img = driver.Create(output_path, sample_img.RasterXSize, sample_img.RasterYSize, 1, gdal.GDT_UInt16)\n",
    "\n",
    "output_img.SetGeoTransform(sample_img.GetGeoTransform())\n",
    "output_img.SetProjection(sample_img.GetProjection())\n",
    "output_img.GetRasterBand(1).Fill(0)\n",
    "\n",
    "output_band = output_img.GetRasterBand(1)"
   ]
  },
  {
   "cell_type": "code",
   "execution_count": 39,
   "metadata": {},
   "outputs": [
    {
     "name": "stdout",
     "output_type": "stream",
     "text": [
      "CPU times: total: 0 ns\n",
      "Wall time: 0 ns\n"
     ]
    }
   ],
   "source": [
    "%%time\n",
    "\n",
    "raster = np.zeros((sample_img.RasterYSize, sample_img.RasterXSize), dtype=np.uint8)"
   ]
  },
  {
   "cell_type": "code",
   "execution_count": 40,
   "metadata": {},
   "outputs": [
    {
     "name": "stdout",
     "output_type": "stream",
     "text": [
      "CPU times: total: 50.1 s\n",
      "Wall time: 51.9 s\n"
     ]
    }
   ],
   "source": [
    "%%time\n",
    "\n",
    "for y, x, predicted_class in zip(ys, xs, y_pred):\n",
    "    raster[y][x] = predicted_class"
   ]
  },
  {
   "cell_type": "code",
   "execution_count": 53,
   "metadata": {},
   "outputs": [
    {
     "name": "stdout",
     "output_type": "stream",
     "text": [
      "CPU times: total: 1.86 s\n",
      "Wall time: 13.5 s\n"
     ]
    }
   ],
   "source": [
    "%%time\n",
    "\n",
    "output_band.WriteArray(raster)\n",
    "output_img = None\n",
    "output_band = None"
   ]
  }
 ],
 "metadata": {
  "kernelspec": {
   "display_name": "Python 3.10.5 ('venv': venv)",
   "language": "python",
   "name": "python3"
  },
  "language_info": {
   "codemirror_mode": {
    "name": "ipython",
    "version": 3
   },
   "file_extension": ".py",
   "mimetype": "text/x-python",
   "name": "python",
   "nbconvert_exporter": "python",
   "pygments_lexer": "ipython3",
   "version": "3.8.7"
  },
  "orig_nbformat": 4,
  "vscode": {
   "interpreter": {
    "hash": "6d128c42ad77300b6cad6a20f2e09d544622ec65cadb99f8cd523daa68ef9cec"
   }
  }
 },
 "nbformat": 4,
 "nbformat_minor": 2
}
